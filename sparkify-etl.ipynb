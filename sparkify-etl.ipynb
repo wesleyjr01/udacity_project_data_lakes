{
 "cells": [
  {
   "cell_type": "markdown",
   "id": "4764f1e0",
   "metadata": {},
   "source": [
    "### See if spark app is already created"
   ]
  },
  {
   "cell_type": "code",
   "execution_count": 1,
   "id": "f8ee8bd0",
   "metadata": {},
   "outputs": [
    {
     "data": {
      "application/vnd.jupyter.widget-view+json": {
       "model_id": "a6a9b66d0f514ea29278fc285afced49",
       "version_major": 2,
       "version_minor": 0
      },
      "text/plain": [
       "VBox()"
      ]
     },
     "metadata": {},
     "output_type": "display_data"
    },
    {
     "name": "stdout",
     "output_type": "stream",
     "text": [
      "Starting Spark application\n"
     ]
    },
    {
     "data": {
      "text/html": [
       "<table>\n",
       "<tr><th>ID</th><th>YARN Application ID</th><th>Kind</th><th>State</th><th>Spark UI</th><th>Driver log</th><th>Current session?</th></tr><tr><td>1</td><td>application_1623611811062_0002</td><td>pyspark</td><td>idle</td><td><a target=\"_blank\" href=\"http://ip-172-31-2-140.ec2.internal:20888/proxy/application_1623611811062_0002/\">Link</a></td><td><a target=\"_blank\" href=\"http://ip-172-31-0-240.ec2.internal:8042/node/containerlogs/container_1623611811062_0002_01_000001/livy\">Link</a></td><td>✔</td></tr></table>"
      ],
      "text/plain": [
       "<IPython.core.display.HTML object>"
      ]
     },
     "metadata": {},
     "output_type": "display_data"
    },
    {
     "data": {
      "application/vnd.jupyter.widget-view+json": {
       "model_id": "",
       "version_major": 2,
       "version_minor": 0
      },
      "text/plain": [
       "FloatProgress(value=0.0, bar_style='info', description='Progress:', layout=Layout(height='25px', width='50%'),…"
      ]
     },
     "metadata": {},
     "output_type": "display_data"
    },
    {
     "name": "stdout",
     "output_type": "stream",
     "text": [
      "SparkSession available as 'spark'.\n"
     ]
    },
    {
     "data": {
      "application/vnd.jupyter.widget-view+json": {
       "model_id": "",
       "version_major": 2,
       "version_minor": 0
      },
      "text/plain": [
       "FloatProgress(value=0.0, bar_style='info', description='Progress:', layout=Layout(height='25px', width='50%'),…"
      ]
     },
     "metadata": {},
     "output_type": "display_data"
    },
    {
     "name": "stdout",
     "output_type": "stream",
     "text": [
      "<SparkContext master=yarn appName=livy-session-1>"
     ]
    }
   ],
   "source": [
    "sc"
   ]
  },
  {
   "cell_type": "code",
   "execution_count": 2,
   "id": "dd1880f8",
   "metadata": {},
   "outputs": [
    {
     "data": {
      "application/vnd.jupyter.widget-view+json": {
       "model_id": "fa2ba672fc7c4c819c58eab11d9ef1eb",
       "version_major": 2,
       "version_minor": 0
      },
      "text/plain": [
       "VBox()"
      ]
     },
     "metadata": {},
     "output_type": "display_data"
    },
    {
     "data": {
      "application/vnd.jupyter.widget-view+json": {
       "model_id": "",
       "version_major": 2,
       "version_minor": 0
      },
      "text/plain": [
       "FloatProgress(value=0.0, bar_style='info', description='Progress:', layout=Layout(height='25px', width='50%'),…"
      ]
     },
     "metadata": {},
     "output_type": "display_data"
    },
    {
     "name": "stdout",
     "output_type": "stream",
     "text": [
      "<pyspark.sql.session.SparkSession object at 0x7f53d7982a90>"
     ]
    }
   ],
   "source": [
    "spark"
   ]
  },
  {
   "cell_type": "code",
   "execution_count": 3,
   "id": "d7d9ac12",
   "metadata": {},
   "outputs": [
    {
     "data": {
      "text/html": [
       "Current session configs: <tt>{'conf': {'spark.pyspark.python': 'python3', 'spark.pyspark.virtualenv.enabled': 'true', 'spark.pyspark.virtualenv.type': 'native', 'spark.pyspark.virtualenv.bin.path': '/usr/bin/virtualenv'}, 'kind': 'pyspark'}</tt><br>"
      ],
      "text/plain": [
       "<IPython.core.display.HTML object>"
      ]
     },
     "metadata": {},
     "output_type": "display_data"
    },
    {
     "data": {
      "text/html": [
       "<table>\n",
       "<tr><th>ID</th><th>YARN Application ID</th><th>Kind</th><th>State</th><th>Spark UI</th><th>Driver log</th><th>Current session?</th></tr><tr><td>1</td><td>application_1623611811062_0002</td><td>pyspark</td><td>idle</td><td><a target=\"_blank\" href=\"http://ip-172-31-2-140.ec2.internal:20888/proxy/application_1623611811062_0002/\">Link</a></td><td><a target=\"_blank\" href=\"http://ip-172-31-0-240.ec2.internal:8042/node/containerlogs/container_1623611811062_0002_01_000001/livy\">Link</a></td><td>✔</td></tr></table>"
      ],
      "text/plain": [
       "<IPython.core.display.HTML object>"
      ]
     },
     "metadata": {},
     "output_type": "display_data"
    }
   ],
   "source": [
    "%%info"
   ]
  },
  {
   "cell_type": "code",
   "execution_count": 4,
   "id": "f05e0667",
   "metadata": {},
   "outputs": [
    {
     "data": {
      "application/vnd.jupyter.widget-view+json": {
       "model_id": "bbf2dbe728c3408889ddb337f0b96790",
       "version_major": 2,
       "version_minor": 0
      },
      "text/plain": [
       "VBox()"
      ]
     },
     "metadata": {},
     "output_type": "display_data"
    },
    {
     "data": {
      "application/vnd.jupyter.widget-view+json": {
       "model_id": "",
       "version_major": 2,
       "version_minor": 0
      },
      "text/plain": [
       "FloatProgress(value=0.0, bar_style='info', description='Progress:', layout=Layout(height='25px', width='50%'),…"
      ]
     },
     "metadata": {},
     "output_type": "display_data"
    },
    {
     "name": "stdout",
     "output_type": "stream",
     "text": [
      "Package                    Version\n",
      "-------------------------- -------\n",
      "beautifulsoup4             4.8.1\n",
      "boto                       2.49.0\n",
      "jmespath                   0.9.4\n",
      "lxml                       4.4.1\n",
      "mysqlclient                1.4.4\n",
      "nltk                       3.4.5\n",
      "nose                       1.3.4\n",
      "numpy                      1.19.5\n",
      "pandas                     0.23.0\n",
      "pip                        21.1.2\n",
      "py-dateutil                2.2\n",
      "python-dateutil            2.8.1\n",
      "python36-sagemaker-pyspark 1.2.6\n",
      "pytz                       2019.3\n",
      "PyYAML                     3.11\n",
      "setuptools                 57.0.0\n",
      "six                        1.12.0\n",
      "soupsieve                  1.9.4\n",
      "wheel                      0.36.2\n",
      "windmill                   1.6"
     ]
    }
   ],
   "source": [
    "sc.list_packages()"
   ]
  },
  {
   "cell_type": "markdown",
   "id": "0a07a56f",
   "metadata": {},
   "source": [
    "### Install Pandas if necessary"
   ]
  },
  {
   "cell_type": "code",
   "execution_count": 5,
   "id": "4563633f",
   "metadata": {},
   "outputs": [
    {
     "data": {
      "application/vnd.jupyter.widget-view+json": {
       "model_id": "17b085e25a05490a9847775aa0bcd468",
       "version_major": 2,
       "version_minor": 0
      },
      "text/plain": [
       "VBox()"
      ]
     },
     "metadata": {},
     "output_type": "display_data"
    },
    {
     "data": {
      "application/vnd.jupyter.widget-view+json": {
       "model_id": "",
       "version_major": 2,
       "version_minor": 0
      },
      "text/plain": [
       "FloatProgress(value=0.0, bar_style='info', description='Progress:', layout=Layout(height='25px', width='50%'),…"
      ]
     },
     "metadata": {},
     "output_type": "display_data"
    }
   ],
   "source": [
    "# install pandas\n",
    "# sc.install_pypi_package(\"pandas==0.23\")\n",
    "# sc.list_packages()"
   ]
  },
  {
   "cell_type": "markdown",
   "id": "02363232",
   "metadata": {},
   "source": [
    "# Import logs data from s3"
   ]
  },
  {
   "cell_type": "code",
   "execution_count": 6,
   "id": "08bd5c4d",
   "metadata": {},
   "outputs": [
    {
     "data": {
      "application/vnd.jupyter.widget-view+json": {
       "model_id": "4b50caa3537b40ddab66cf55dfaa8755",
       "version_major": 2,
       "version_minor": 0
      },
      "text/plain": [
       "VBox()"
      ]
     },
     "metadata": {},
     "output_type": "display_data"
    },
    {
     "data": {
      "application/vnd.jupyter.widget-view+json": {
       "model_id": "",
       "version_major": 2,
       "version_minor": 0
      },
      "text/plain": [
       "FloatProgress(value=0.0, bar_style='info', description='Progress:', layout=Layout(height='25px', width='50%'),…"
      ]
     },
     "metadata": {},
     "output_type": "display_data"
    }
   ],
   "source": [
    "dfLogs = spark.read.json(\"s3://udacity-de-files/raw/logs/\")"
   ]
  },
  {
   "cell_type": "code",
   "execution_count": 7,
   "id": "aee0e565",
   "metadata": {},
   "outputs": [
    {
     "data": {
      "application/vnd.jupyter.widget-view+json": {
       "model_id": "d70cc4f0e6384b249768884770cf0ed4",
       "version_major": 2,
       "version_minor": 0
      },
      "text/plain": [
       "VBox()"
      ]
     },
     "metadata": {},
     "output_type": "display_data"
    },
    {
     "data": {
      "application/vnd.jupyter.widget-view+json": {
       "model_id": "",
       "version_major": 2,
       "version_minor": 0
      },
      "text/plain": [
       "FloatProgress(value=0.0, bar_style='info', description='Progress:', layout=Layout(height='25px', width='50%'),…"
      ]
     },
     "metadata": {},
     "output_type": "display_data"
    },
    {
     "name": "stdout",
     "output_type": "stream",
     "text": [
      "root\n",
      " |-- artist: string (nullable = true)\n",
      " |-- auth: string (nullable = true)\n",
      " |-- firstName: string (nullable = true)\n",
      " |-- gender: string (nullable = true)\n",
      " |-- itemInSession: long (nullable = true)\n",
      " |-- lastName: string (nullable = true)\n",
      " |-- length: double (nullable = true)\n",
      " |-- level: string (nullable = true)\n",
      " |-- location: string (nullable = true)\n",
      " |-- method: string (nullable = true)\n",
      " |-- page: string (nullable = true)\n",
      " |-- registration: double (nullable = true)\n",
      " |-- sessionId: long (nullable = true)\n",
      " |-- song: string (nullable = true)\n",
      " |-- status: long (nullable = true)\n",
      " |-- ts: long (nullable = true)\n",
      " |-- userAgent: string (nullable = true)\n",
      " |-- userId: string (nullable = true)"
     ]
    }
   ],
   "source": [
    "dfLogs.printSchema()"
   ]
  },
  {
   "cell_type": "code",
   "execution_count": 8,
   "id": "a7e812c8",
   "metadata": {},
   "outputs": [
    {
     "data": {
      "application/vnd.jupyter.widget-view+json": {
       "model_id": "6f66c75491dc466294255f806b513f7c",
       "version_major": 2,
       "version_minor": 0
      },
      "text/plain": [
       "VBox()"
      ]
     },
     "metadata": {},
     "output_type": "display_data"
    },
    {
     "data": {
      "application/vnd.jupyter.widget-view+json": {
       "model_id": "",
       "version_major": 2,
       "version_minor": 0
      },
      "text/plain": [
       "FloatProgress(value=0.0, bar_style='info', description='Progress:', layout=Layout(height='25px', width='50%'),…"
      ]
     },
     "metadata": {},
     "output_type": "display_data"
    }
   ],
   "source": [
    "dfLogs = dfLogs \\\n",
    "            .withColumnRenamed(\"firstName\", \"first_name\") \\\n",
    "            .withColumnRenamed(\"itemInSession\", \"item_in_session\") \\\n",
    "            .withColumnRenamed(\"lastName\", \"last_name\") \\\n",
    "            .withColumnRenamed(\"sessionId\", \"session_id\") \\\n",
    "            .withColumnRenamed(\"userAgent\", \"user_agent\") \\\n",
    "            .withColumnRenamed(\"userId\", \"user_id\") \\"
   ]
  },
  {
   "cell_type": "code",
   "execution_count": 9,
   "id": "ae7f2899",
   "metadata": {},
   "outputs": [
    {
     "data": {
      "application/vnd.jupyter.widget-view+json": {
       "model_id": "0b6a5f95b80b41fd9739691e2fcace6a",
       "version_major": 2,
       "version_minor": 0
      },
      "text/plain": [
       "VBox()"
      ]
     },
     "metadata": {},
     "output_type": "display_data"
    },
    {
     "data": {
      "application/vnd.jupyter.widget-view+json": {
       "model_id": "",
       "version_major": 2,
       "version_minor": 0
      },
      "text/plain": [
       "FloatProgress(value=0.0, bar_style='info', description='Progress:', layout=Layout(height='25px', width='50%'),…"
      ]
     },
     "metadata": {},
     "output_type": "display_data"
    },
    {
     "name": "stdout",
     "output_type": "stream",
     "text": [
      "        artist       auth first_name gender  item_in_session last_name  \\\n",
      "0     Harmonia  Logged In       Ryan      M                0     Smith   \n",
      "1  The Prodigy  Logged In       Ryan      M                1     Smith   \n",
      "2        Train  Logged In       Ryan      M                2     Smith   \n",
      "3         None  Logged In      Wyatt      M                0     Scott   \n",
      "4         None  Logged In     Austin      M                0   Rosales   \n",
      "\n",
      "      length level                               location method      page  \\\n",
      "0  655.77751  free     San Jose-Sunnyvale-Santa Clara, CA    PUT  NextSong   \n",
      "1  260.07465  free     San Jose-Sunnyvale-Santa Clara, CA    PUT  NextSong   \n",
      "2  205.45261  free     San Jose-Sunnyvale-Santa Clara, CA    PUT  NextSong   \n",
      "3        NaN  free              Eureka-Arcata-Fortuna, CA    GET      Home   \n",
      "4        NaN  free  New York-Newark-Jersey City, NY-NJ-PA    GET      Home   \n",
      "\n",
      "   registration  session_id             song  status             ts  \\\n",
      "0  1.541017e+12         583    Sehr kosmisch     200  1542241826796   \n",
      "1  1.541017e+12         583  The Big Gundown     200  1542242481796   \n",
      "2  1.541017e+12         583         Marry Me     200  1542242741796   \n",
      "3  1.540872e+12         563             None     200  1542247071796   \n",
      "4  1.541060e+12         521             None     200  1542252577796   \n",
      "\n",
      "                                          user_agent user_id  \n",
      "0  \"Mozilla/5.0 (X11; Linux x86_64) AppleWebKit/5...      26  \n",
      "1  \"Mozilla/5.0 (X11; Linux x86_64) AppleWebKit/5...      26  \n",
      "2  \"Mozilla/5.0 (X11; Linux x86_64) AppleWebKit/5...      26  \n",
      "3  Mozilla/5.0 (Windows NT 6.1; WOW64; Trident/7....       9  \n",
      "4  Mozilla/5.0 (Windows NT 6.1; rv:31.0) Gecko/20...      12"
     ]
    }
   ],
   "source": [
    "import pandas as pd\n",
    "pd.options.display.max_columns = 300\n",
    "\n",
    "dfLogs.limit(5).toPandas()"
   ]
  },
  {
   "cell_type": "code",
   "execution_count": 10,
   "id": "8677e403",
   "metadata": {},
   "outputs": [
    {
     "data": {
      "application/vnd.jupyter.widget-view+json": {
       "model_id": "9cbcf657e02d44a3914856cb453a6eb4",
       "version_major": 2,
       "version_minor": 0
      },
      "text/plain": [
       "VBox()"
      ]
     },
     "metadata": {},
     "output_type": "display_data"
    },
    {
     "data": {
      "application/vnd.jupyter.widget-view+json": {
       "model_id": "",
       "version_major": 2,
       "version_minor": 0
      },
      "text/plain": [
       "FloatProgress(value=0.0, bar_style='info', description='Progress:', layout=Layout(height='25px', width='50%'),…"
      ]
     },
     "metadata": {},
     "output_type": "display_data"
    },
    {
     "name": "stdout",
     "output_type": "stream",
     "text": [
      "8056"
     ]
    }
   ],
   "source": [
    "dfLogs.count()"
   ]
  },
  {
   "cell_type": "markdown",
   "id": "a916a4a1",
   "metadata": {},
   "source": [
    "### Create time table"
   ]
  },
  {
   "cell_type": "code",
   "execution_count": 11,
   "id": "304ea66e",
   "metadata": {},
   "outputs": [
    {
     "data": {
      "application/vnd.jupyter.widget-view+json": {
       "model_id": "9d823563029449c4a27a20145df4fa93",
       "version_major": 2,
       "version_minor": 0
      },
      "text/plain": [
       "VBox()"
      ]
     },
     "metadata": {},
     "output_type": "display_data"
    },
    {
     "data": {
      "application/vnd.jupyter.widget-view+json": {
       "model_id": "",
       "version_major": 2,
       "version_minor": 0
      },
      "text/plain": [
       "FloatProgress(value=0.0, bar_style='info', description='Progress:', layout=Layout(height='25px', width='50%'),…"
      ]
     },
     "metadata": {},
     "output_type": "display_data"
    }
   ],
   "source": [
    "from pyspark.sql import functions as F\n",
    "from pyspark.sql import types as T\n",
    "\n",
    "dfTime = dfLogs \\\n",
    "            .filter(dfLogs.page == \"NextSong\") \\\n",
    "            .dropDuplicates(subset=[\"ts\"]) \\\n",
    "            .withColumn(\"start_time\", F.from_unixtime(F.col(\"ts\")/1000)) \\\n",
    "            .withColumn(\"start_time\", F.to_timestamp(\"start_time\")) \\\n",
    "            .withColumn(\"hour\", F.hour(\"start_time\")) \\\n",
    "            .withColumn(\"day\", F.dayofyear(\"start_time\")) \\\n",
    "            .withColumn(\"week\", F.weekofyear(\"start_time\")) \\\n",
    "            .withColumn(\"month\", F.month(\"start_time\")) \\\n",
    "            .withColumn(\"year\", F.year(\"start_time\")) \\\n",
    "            .withColumn(\"weekday\", F.dayofweek(\"start_time\")) \\\n",
    "            .select(\"start_time\", \"hour\", \"day\", \"week\", \"month\", \"year\", \"weekday\")"
   ]
  },
  {
   "cell_type": "code",
   "execution_count": 12,
   "id": "07499369",
   "metadata": {},
   "outputs": [
    {
     "data": {
      "application/vnd.jupyter.widget-view+json": {
       "model_id": "dbc2456cbddf49cf9cedeabab1f6b002",
       "version_major": 2,
       "version_minor": 0
      },
      "text/plain": [
       "VBox()"
      ]
     },
     "metadata": {},
     "output_type": "display_data"
    },
    {
     "data": {
      "application/vnd.jupyter.widget-view+json": {
       "model_id": "",
       "version_major": 2,
       "version_minor": 0
      },
      "text/plain": [
       "FloatProgress(value=0.0, bar_style='info', description='Progress:', layout=Layout(height='25px', width='50%'),…"
      ]
     },
     "metadata": {},
     "output_type": "display_data"
    },
    {
     "name": "stdout",
     "output_type": "stream",
     "text": [
      "6813"
     ]
    }
   ],
   "source": [
    "dfTime.count()"
   ]
  },
  {
   "cell_type": "code",
   "execution_count": 13,
   "id": "b4566442",
   "metadata": {},
   "outputs": [
    {
     "data": {
      "application/vnd.jupyter.widget-view+json": {
       "model_id": "48598822f3a44495ac1ad748b32477ad",
       "version_major": 2,
       "version_minor": 0
      },
      "text/plain": [
       "VBox()"
      ]
     },
     "metadata": {},
     "output_type": "display_data"
    },
    {
     "data": {
      "application/vnd.jupyter.widget-view+json": {
       "model_id": "",
       "version_major": 2,
       "version_minor": 0
      },
      "text/plain": [
       "FloatProgress(value=0.0, bar_style='info', description='Progress:', layout=Layout(height='25px', width='50%'),…"
      ]
     },
     "metadata": {},
     "output_type": "display_data"
    },
    {
     "name": "stdout",
     "output_type": "stream",
     "text": [
      "root\n",
      " |-- start_time: timestamp (nullable = true)\n",
      " |-- hour: integer (nullable = true)\n",
      " |-- day: integer (nullable = true)\n",
      " |-- week: integer (nullable = true)\n",
      " |-- month: integer (nullable = true)\n",
      " |-- year: integer (nullable = true)\n",
      " |-- weekday: integer (nullable = true)"
     ]
    }
   ],
   "source": [
    "dfTime.printSchema()"
   ]
  },
  {
   "cell_type": "code",
   "execution_count": 14,
   "id": "c84b28fc",
   "metadata": {},
   "outputs": [
    {
     "data": {
      "application/vnd.jupyter.widget-view+json": {
       "model_id": "cc4d9eac431d402288733def84c3ef00",
       "version_major": 2,
       "version_minor": 0
      },
      "text/plain": [
       "VBox()"
      ]
     },
     "metadata": {},
     "output_type": "display_data"
    },
    {
     "data": {
      "application/vnd.jupyter.widget-view+json": {
       "model_id": "",
       "version_major": 2,
       "version_minor": 0
      },
      "text/plain": [
       "FloatProgress(value=0.0, bar_style='info', description='Progress:', layout=Layout(height='25px', width='50%'),…"
      ]
     },
     "metadata": {},
     "output_type": "display_data"
    },
    {
     "name": "stdout",
     "output_type": "stream",
     "text": [
      "+-------------------+----+---+----+-----+----+-------+\n",
      "|         start_time|hour|day|week|month|year|weekday|\n",
      "+-------------------+----+---+----+-----+----+-------+\n",
      "|2018-11-21 10:13:42|  10|325|  47|   11|2018|      4|\n",
      "|2018-11-21 11:01:05|  11|325|  47|   11|2018|      4|\n",
      "|2018-11-21 18:34:01|  18|325|  47|   11|2018|      4|\n",
      "|2018-11-21 20:44:26|  20|325|  47|   11|2018|      4|\n",
      "|2018-11-14 03:37:52|   3|318|  46|   11|2018|      4|\n",
      "+-------------------+----+---+----+-----+----+-------+\n",
      "only showing top 5 rows"
     ]
    }
   ],
   "source": [
    "dfTime.show(5)"
   ]
  },
  {
   "cell_type": "markdown",
   "id": "be5afe8b",
   "metadata": {},
   "source": [
    "### Create users table\n",
    "\n",
    "---\n",
    "\n",
    "Falta filter usuarios unicos pelo userId"
   ]
  },
  {
   "cell_type": "code",
   "execution_count": 45,
   "id": "939cfb0b",
   "metadata": {},
   "outputs": [
    {
     "data": {
      "application/vnd.jupyter.widget-view+json": {
       "model_id": "3fe82b26fbe5471791a40b4afd289a18",
       "version_major": 2,
       "version_minor": 0
      },
      "text/plain": [
       "VBox()"
      ]
     },
     "metadata": {},
     "output_type": "display_data"
    },
    {
     "data": {
      "application/vnd.jupyter.widget-view+json": {
       "model_id": "",
       "version_major": 2,
       "version_minor": 0
      },
      "text/plain": [
       "FloatProgress(value=0.0, bar_style='info', description='Progress:', layout=Layout(height='25px', width='50%'),…"
      ]
     },
     "metadata": {},
     "output_type": "display_data"
    }
   ],
   "source": [
    "from pyspark.sql.functions import substring\n",
    "\n",
    "dfUsers = dfLogs \\\n",
    "            .filter(dfLogs.page == \"NextSong\") \\\n",
    "            .filter(dfLogs.user_id.isNotNull()) \\\n",
    "            .dropDuplicates(subset=[\"user_id\"]) \\\n",
    "            .withColumn(\"first_name_letter\", substring(\"first_name\", 1, 1)) \\\n",
    "            .select(\"user_id\", \"first_name\", \"first_name_letter\", \"last_name\", \"gender\", \"level\") \\"
   ]
  },
  {
   "cell_type": "code",
   "execution_count": 46,
   "id": "73ab755d",
   "metadata": {},
   "outputs": [
    {
     "data": {
      "application/vnd.jupyter.widget-view+json": {
       "model_id": "69f805fd652c4f9e8bf63d76b47042a2",
       "version_major": 2,
       "version_minor": 0
      },
      "text/plain": [
       "VBox()"
      ]
     },
     "metadata": {},
     "output_type": "display_data"
    },
    {
     "data": {
      "application/vnd.jupyter.widget-view+json": {
       "model_id": "",
       "version_major": 2,
       "version_minor": 0
      },
      "text/plain": [
       "FloatProgress(value=0.0, bar_style='info', description='Progress:', layout=Layout(height='25px', width='50%'),…"
      ]
     },
     "metadata": {},
     "output_type": "display_data"
    },
    {
     "name": "stdout",
     "output_type": "stream",
     "text": [
      "96"
     ]
    }
   ],
   "source": [
    "dfUsers.count()"
   ]
  },
  {
   "cell_type": "code",
   "execution_count": 47,
   "id": "008e3e5c",
   "metadata": {},
   "outputs": [
    {
     "data": {
      "application/vnd.jupyter.widget-view+json": {
       "model_id": "82df279d46504801b8eb796802b257f2",
       "version_major": 2,
       "version_minor": 0
      },
      "text/plain": [
       "VBox()"
      ]
     },
     "metadata": {},
     "output_type": "display_data"
    },
    {
     "data": {
      "application/vnd.jupyter.widget-view+json": {
       "model_id": "",
       "version_major": 2,
       "version_minor": 0
      },
      "text/plain": [
       "FloatProgress(value=0.0, bar_style='info', description='Progress:', layout=Layout(height='25px', width='50%'),…"
      ]
     },
     "metadata": {},
     "output_type": "display_data"
    },
    {
     "name": "stdout",
     "output_type": "stream",
     "text": [
      "root\n",
      " |-- user_id: string (nullable = true)\n",
      " |-- first_name: string (nullable = true)\n",
      " |-- first_name_letter: string (nullable = true)\n",
      " |-- last_name: string (nullable = true)\n",
      " |-- gender: string (nullable = true)\n",
      " |-- level: string (nullable = true)"
     ]
    }
   ],
   "source": [
    "dfUsers.printSchema()"
   ]
  },
  {
   "cell_type": "code",
   "execution_count": 48,
   "id": "5c12e783",
   "metadata": {},
   "outputs": [
    {
     "data": {
      "application/vnd.jupyter.widget-view+json": {
       "model_id": "b0aeab10225a4c7d8afa6a9cdefbbb64",
       "version_major": 2,
       "version_minor": 0
      },
      "text/plain": [
       "VBox()"
      ]
     },
     "metadata": {},
     "output_type": "display_data"
    },
    {
     "data": {
      "application/vnd.jupyter.widget-view+json": {
       "model_id": "",
       "version_major": 2,
       "version_minor": 0
      },
      "text/plain": [
       "FloatProgress(value=0.0, bar_style='info', description='Progress:', layout=Layout(height='25px', width='50%'),…"
      ]
     },
     "metadata": {},
     "output_type": "display_data"
    },
    {
     "name": "stdout",
     "output_type": "stream",
     "text": [
      "+-------+----------+-----------------+---------+------+-----+\n",
      "|user_id|first_name|first_name_letter|last_name|gender|level|\n",
      "+-------+----------+-----------------+---------+------+-----+\n",
      "|     51|      Maia|                M|    Burke|     F| free|\n",
      "|      7|    Adelyn|                A|   Jordan|     F| free|\n",
      "|     15|      Lily|                L|     Koch|     F| paid|\n",
      "|     54|     Kaleb|                K|     Cook|     M| free|\n",
      "|    101|    Jayden|                J|      Fox|     M| free|\n",
      "+-------+----------+-----------------+---------+------+-----+\n",
      "only showing top 5 rows"
     ]
    }
   ],
   "source": [
    "dfUsers.show(5)"
   ]
  },
  {
   "cell_type": "code",
   "execution_count": 49,
   "id": "f2b8ef78",
   "metadata": {},
   "outputs": [
    {
     "data": {
      "application/vnd.jupyter.widget-view+json": {
       "model_id": "f5444905a83c4eca99c9deab7a051fde",
       "version_major": 2,
       "version_minor": 0
      },
      "text/plain": [
       "VBox()"
      ]
     },
     "metadata": {},
     "output_type": "display_data"
    },
    {
     "data": {
      "application/vnd.jupyter.widget-view+json": {
       "model_id": "",
       "version_major": 2,
       "version_minor": 0
      },
      "text/plain": [
       "FloatProgress(value=0.0, bar_style='info', description='Progress:', layout=Layout(height='25px', width='50%'),…"
      ]
     },
     "metadata": {},
     "output_type": "display_data"
    },
    {
     "name": "stdout",
     "output_type": "stream",
     "text": [
      "0"
     ]
    }
   ],
   "source": [
    "# Number of nulls\n",
    "dfUsers.filter(dfUsers.user_id.isNull()).count()"
   ]
  },
  {
   "cell_type": "markdown",
   "id": "62cf5364",
   "metadata": {},
   "source": [
    "# Import songs data from s3"
   ]
  },
  {
   "cell_type": "code",
   "execution_count": 20,
   "id": "6ea99325",
   "metadata": {},
   "outputs": [
    {
     "data": {
      "application/vnd.jupyter.widget-view+json": {
       "model_id": "077c740d3c9e47508afb5505edb28064",
       "version_major": 2,
       "version_minor": 0
      },
      "text/plain": [
       "VBox()"
      ]
     },
     "metadata": {},
     "output_type": "display_data"
    },
    {
     "data": {
      "application/vnd.jupyter.widget-view+json": {
       "model_id": "",
       "version_major": 2,
       "version_minor": 0
      },
      "text/plain": [
       "FloatProgress(value=0.0, bar_style='info', description='Progress:', layout=Layout(height='25px', width='50%'),…"
      ]
     },
     "metadata": {},
     "output_type": "display_data"
    }
   ],
   "source": [
    "dfSongsRaw = spark.read.json(\"s3://udacity-de-files/raw/songs/A/*/*/*.json\")"
   ]
  },
  {
   "cell_type": "code",
   "execution_count": 21,
   "id": "85253adf",
   "metadata": {},
   "outputs": [
    {
     "data": {
      "application/vnd.jupyter.widget-view+json": {
       "model_id": "b45d128ff4254ad6946ba692ef107293",
       "version_major": 2,
       "version_minor": 0
      },
      "text/plain": [
       "VBox()"
      ]
     },
     "metadata": {},
     "output_type": "display_data"
    },
    {
     "data": {
      "application/vnd.jupyter.widget-view+json": {
       "model_id": "",
       "version_major": 2,
       "version_minor": 0
      },
      "text/plain": [
       "FloatProgress(value=0.0, bar_style='info', description='Progress:', layout=Layout(height='25px', width='50%'),…"
      ]
     },
     "metadata": {},
     "output_type": "display_data"
    },
    {
     "name": "stdout",
     "output_type": "stream",
     "text": [
      "71"
     ]
    }
   ],
   "source": [
    "dfSongsRaw.count()"
   ]
  },
  {
   "cell_type": "code",
   "execution_count": 22,
   "id": "66a24b92",
   "metadata": {},
   "outputs": [
    {
     "data": {
      "application/vnd.jupyter.widget-view+json": {
       "model_id": "2721694f467244c5924c661e24730dfe",
       "version_major": 2,
       "version_minor": 0
      },
      "text/plain": [
       "VBox()"
      ]
     },
     "metadata": {},
     "output_type": "display_data"
    },
    {
     "data": {
      "application/vnd.jupyter.widget-view+json": {
       "model_id": "",
       "version_major": 2,
       "version_minor": 0
      },
      "text/plain": [
       "FloatProgress(value=0.0, bar_style='info', description='Progress:', layout=Layout(height='25px', width='50%'),…"
      ]
     },
     "metadata": {},
     "output_type": "display_data"
    },
    {
     "name": "stdout",
     "output_type": "stream",
     "text": [
      "root\n",
      " |-- artist_id: string (nullable = true)\n",
      " |-- artist_latitude: double (nullable = true)\n",
      " |-- artist_location: string (nullable = true)\n",
      " |-- artist_longitude: double (nullable = true)\n",
      " |-- artist_name: string (nullable = true)\n",
      " |-- duration: double (nullable = true)\n",
      " |-- num_songs: long (nullable = true)\n",
      " |-- song_id: string (nullable = true)\n",
      " |-- title: string (nullable = true)\n",
      " |-- year: long (nullable = true)"
     ]
    }
   ],
   "source": [
    "dfSongsRaw.printSchema()"
   ]
  },
  {
   "cell_type": "code",
   "execution_count": 23,
   "id": "6a179d64",
   "metadata": {},
   "outputs": [
    {
     "data": {
      "application/vnd.jupyter.widget-view+json": {
       "model_id": "343e84d87f43498cb52bd26880c3bcd1",
       "version_major": 2,
       "version_minor": 0
      },
      "text/plain": [
       "VBox()"
      ]
     },
     "metadata": {},
     "output_type": "display_data"
    },
    {
     "data": {
      "application/vnd.jupyter.widget-view+json": {
       "model_id": "",
       "version_major": 2,
       "version_minor": 0
      },
      "text/plain": [
       "FloatProgress(value=0.0, bar_style='info', description='Progress:', layout=Layout(height='25px', width='50%'),…"
      ]
     },
     "metadata": {},
     "output_type": "display_data"
    },
    {
     "name": "stdout",
     "output_type": "stream",
     "text": [
      "            artist_id  artist_latitude    artist_location  artist_longitude  \\\n",
      "0  ARDR4AC1187FB371A1              NaN                                  NaN   \n",
      "1  AREBBGV1187FB523D2              NaN        Houston, TX               NaN   \n",
      "2  ARMAC4T1187FB3FA4C         40.82624  Morris Plains, NJ         -74.47995   \n",
      "3  ARPBNLO1187FB3D52F         40.71455       New York, NY         -74.00712   \n",
      "4  ARDNS031187B9924F0         32.67828            Georgia         -83.22295   \n",
      "\n",
      "                                         artist_name   duration  num_songs  \\\n",
      "0  Montserrat Caballé;Placido Domingo;Vicente Sar...  511.16363          1   \n",
      "1       Mike Jones (Featuring CJ_ Mello & Lil' Bran)  173.66159          1   \n",
      "2                          The Dillinger Escape Plan  207.77751          1   \n",
      "3                                           Tiny Tim   43.36281          1   \n",
      "4                                         Tim Wilson  186.48771          1   \n",
      "\n",
      "              song_id                                              title  year  \n",
      "0  SOBAYLL12A8C138AF9                    Sono andati? Fingevo di dormire     0  \n",
      "1  SOOLYAZ12A6701F4A6                    Laws Patrolling (Album Version)     0  \n",
      "2  SOBBUGU12A8C13E95D                    Setting Fire to Sleeping Giants  2004  \n",
      "3  SOAOIBZ12AB01815BE  I Hold Your Hand In Mine [Live At Royal Albert...  2000  \n",
      "4  SONYPOM12A8C13B2D7  I Think My Wife Is Running Around On Me (Taco ...  2005"
     ]
    }
   ],
   "source": [
    "dfSongsRaw.limit(5).toPandas()"
   ]
  },
  {
   "cell_type": "markdown",
   "id": "29f10750",
   "metadata": {},
   "source": [
    "### Create artist table"
   ]
  },
  {
   "cell_type": "code",
   "execution_count": 24,
   "id": "61579af8",
   "metadata": {},
   "outputs": [
    {
     "data": {
      "application/vnd.jupyter.widget-view+json": {
       "model_id": "99aa97d05baa44d99276fb86b5dcb7a6",
       "version_major": 2,
       "version_minor": 0
      },
      "text/plain": [
       "VBox()"
      ]
     },
     "metadata": {},
     "output_type": "display_data"
    },
    {
     "data": {
      "application/vnd.jupyter.widget-view+json": {
       "model_id": "",
       "version_major": 2,
       "version_minor": 0
      },
      "text/plain": [
       "FloatProgress(value=0.0, bar_style='info', description='Progress:', layout=Layout(height='25px', width='50%'),…"
      ]
     },
     "metadata": {},
     "output_type": "display_data"
    }
   ],
   "source": [
    "dfArtists = dfSongsRaw \\\n",
    "            .filter(dfSongsRaw.artist_id.isNotNull()) \\\n",
    "            .dropDuplicates(subset=[\"artist_id\"]) \\\n",
    "            .withColumnRenamed(\"artist_name\", \"name\") \\\n",
    "            .withColumnRenamed(\"artist_location\", \"location\") \\\n",
    "            .withColumnRenamed(\"artist_latitude\", \"latitude\") \\\n",
    "            .withColumnRenamed(\"artist_longitude\", \"longitude\") \\\n",
    "            .select(\"artist_id\", \"name\", \"location\", \"latitude\", \"longitude\")"
   ]
  },
  {
   "cell_type": "code",
   "execution_count": 25,
   "id": "cac4e87d",
   "metadata": {},
   "outputs": [
    {
     "data": {
      "application/vnd.jupyter.widget-view+json": {
       "model_id": "506d1ac2400643399f2bd940d42a309b",
       "version_major": 2,
       "version_minor": 0
      },
      "text/plain": [
       "VBox()"
      ]
     },
     "metadata": {},
     "output_type": "display_data"
    },
    {
     "data": {
      "application/vnd.jupyter.widget-view+json": {
       "model_id": "",
       "version_major": 2,
       "version_minor": 0
      },
      "text/plain": [
       "FloatProgress(value=0.0, bar_style='info', description='Progress:', layout=Layout(height='25px', width='50%'),…"
      ]
     },
     "metadata": {},
     "output_type": "display_data"
    },
    {
     "name": "stdout",
     "output_type": "stream",
     "text": [
      "69"
     ]
    }
   ],
   "source": [
    "dfArtists.count()"
   ]
  },
  {
   "cell_type": "code",
   "execution_count": 26,
   "id": "97214c0d",
   "metadata": {},
   "outputs": [
    {
     "data": {
      "application/vnd.jupyter.widget-view+json": {
       "model_id": "47b336cea0e443d9ac13c6809ff27e35",
       "version_major": 2,
       "version_minor": 0
      },
      "text/plain": [
       "VBox()"
      ]
     },
     "metadata": {},
     "output_type": "display_data"
    },
    {
     "data": {
      "application/vnd.jupyter.widget-view+json": {
       "model_id": "",
       "version_major": 2,
       "version_minor": 0
      },
      "text/plain": [
       "FloatProgress(value=0.0, bar_style='info', description='Progress:', layout=Layout(height='25px', width='50%'),…"
      ]
     },
     "metadata": {},
     "output_type": "display_data"
    },
    {
     "name": "stdout",
     "output_type": "stream",
     "text": [
      "root\n",
      " |-- artist_id: string (nullable = true)\n",
      " |-- name: string (nullable = true)\n",
      " |-- location: string (nullable = true)\n",
      " |-- latitude: double (nullable = true)\n",
      " |-- longitude: double (nullable = true)"
     ]
    }
   ],
   "source": [
    "dfArtists.printSchema()"
   ]
  },
  {
   "cell_type": "code",
   "execution_count": 27,
   "id": "762538b6",
   "metadata": {},
   "outputs": [
    {
     "data": {
      "application/vnd.jupyter.widget-view+json": {
       "model_id": "721f2eb3941647b996f258671c78d635",
       "version_major": 2,
       "version_minor": 0
      },
      "text/plain": [
       "VBox()"
      ]
     },
     "metadata": {},
     "output_type": "display_data"
    },
    {
     "data": {
      "application/vnd.jupyter.widget-view+json": {
       "model_id": "",
       "version_major": 2,
       "version_minor": 0
      },
      "text/plain": [
       "FloatProgress(value=0.0, bar_style='info', description='Progress:', layout=Layout(height='25px', width='50%'),…"
      ]
     },
     "metadata": {},
     "output_type": "display_data"
    },
    {
     "name": "stdout",
     "output_type": "stream",
     "text": [
      "+------------------+--------------------+--------------------+--------+---------+\n",
      "|         artist_id|                name|            location|latitude|longitude|\n",
      "+------------------+--------------------+--------------------+--------+---------+\n",
      "|AR9AWNF1187B9AB0B4|Kenny G featuring...|Seattle, Washingt...|    null|     null|\n",
      "|AR0IAWL1187B9A96D0|        Danilo Perez|              Panama|  8.4177|-80.11278|\n",
      "|AR0RCMP1187FB3F427|    Billie Jo Spears|        Beaumont, TX|30.08615|-94.10158|\n",
      "|AREDL271187FB40F44|        Soul Mekanik|                    |    null|     null|\n",
      "|ARI3BMM1187FB4255E|        Alice Stuart|          Washington| 38.8991|  -77.029|\n",
      "+------------------+--------------------+--------------------+--------+---------+\n",
      "only showing top 5 rows"
     ]
    }
   ],
   "source": [
    "dfArtists.show(5)"
   ]
  },
  {
   "cell_type": "markdown",
   "id": "44a7a5a6",
   "metadata": {},
   "source": [
    "### Create songs table"
   ]
  },
  {
   "cell_type": "code",
   "execution_count": 28,
   "id": "9799994c",
   "metadata": {},
   "outputs": [
    {
     "data": {
      "application/vnd.jupyter.widget-view+json": {
       "model_id": "fe12c9570a7345b8b832f727833238df",
       "version_major": 2,
       "version_minor": 0
      },
      "text/plain": [
       "VBox()"
      ]
     },
     "metadata": {},
     "output_type": "display_data"
    },
    {
     "data": {
      "application/vnd.jupyter.widget-view+json": {
       "model_id": "",
       "version_major": 2,
       "version_minor": 0
      },
      "text/plain": [
       "FloatProgress(value=0.0, bar_style='info', description='Progress:', layout=Layout(height='25px', width='50%'),…"
      ]
     },
     "metadata": {},
     "output_type": "display_data"
    }
   ],
   "source": [
    "dfSongs = dfSongsRaw \\\n",
    "            .filter(dfSongsRaw.song_id.isNotNull()) \\\n",
    "            .dropDuplicates(subset=[\"song_id\"]) \\\n",
    "            .select(\"song_id\", \"title\", \"artist_id\", \"year\", \"duration\", \"artist_name\")"
   ]
  },
  {
   "cell_type": "code",
   "execution_count": 29,
   "id": "6de156f5",
   "metadata": {},
   "outputs": [
    {
     "data": {
      "application/vnd.jupyter.widget-view+json": {
       "model_id": "42c128dea267480a83b5fafcf7097ebc",
       "version_major": 2,
       "version_minor": 0
      },
      "text/plain": [
       "VBox()"
      ]
     },
     "metadata": {},
     "output_type": "display_data"
    },
    {
     "data": {
      "application/vnd.jupyter.widget-view+json": {
       "model_id": "",
       "version_major": 2,
       "version_minor": 0
      },
      "text/plain": [
       "FloatProgress(value=0.0, bar_style='info', description='Progress:', layout=Layout(height='25px', width='50%'),…"
      ]
     },
     "metadata": {},
     "output_type": "display_data"
    },
    {
     "name": "stdout",
     "output_type": "stream",
     "text": [
      "71"
     ]
    }
   ],
   "source": [
    "dfSongs.count()"
   ]
  },
  {
   "cell_type": "code",
   "execution_count": 30,
   "id": "74575dea",
   "metadata": {},
   "outputs": [
    {
     "data": {
      "application/vnd.jupyter.widget-view+json": {
       "model_id": "b240dca416e14d83b9da67c105e8ce7c",
       "version_major": 2,
       "version_minor": 0
      },
      "text/plain": [
       "VBox()"
      ]
     },
     "metadata": {},
     "output_type": "display_data"
    },
    {
     "data": {
      "application/vnd.jupyter.widget-view+json": {
       "model_id": "",
       "version_major": 2,
       "version_minor": 0
      },
      "text/plain": [
       "FloatProgress(value=0.0, bar_style='info', description='Progress:', layout=Layout(height='25px', width='50%'),…"
      ]
     },
     "metadata": {},
     "output_type": "display_data"
    },
    {
     "name": "stdout",
     "output_type": "stream",
     "text": [
      "root\n",
      " |-- song_id: string (nullable = true)\n",
      " |-- title: string (nullable = true)\n",
      " |-- artist_id: string (nullable = true)\n",
      " |-- year: long (nullable = true)\n",
      " |-- duration: double (nullable = true)\n",
      " |-- artist_name: string (nullable = true)"
     ]
    }
   ],
   "source": [
    "dfSongs.printSchema()"
   ]
  },
  {
   "cell_type": "code",
   "execution_count": 31,
   "id": "b73f593c",
   "metadata": {},
   "outputs": [
    {
     "data": {
      "application/vnd.jupyter.widget-view+json": {
       "model_id": "4232cb13b4a74e7d92bf90986d9cc1ee",
       "version_major": 2,
       "version_minor": 0
      },
      "text/plain": [
       "VBox()"
      ]
     },
     "metadata": {},
     "output_type": "display_data"
    },
    {
     "data": {
      "application/vnd.jupyter.widget-view+json": {
       "model_id": "",
       "version_major": 2,
       "version_minor": 0
      },
      "text/plain": [
       "FloatProgress(value=0.0, bar_style='info', description='Progress:', layout=Layout(height='25px', width='50%'),…"
      ]
     },
     "metadata": {},
     "output_type": "display_data"
    },
    {
     "name": "stdout",
     "output_type": "stream",
     "text": [
      "+------------------+--------------------+------------------+----+---------+----------------+\n",
      "|           song_id|               title|         artist_id|year| duration|     artist_name|\n",
      "+------------------+--------------------+------------------+----+---------+----------------+\n",
      "|SOGOSOV12AF72A285E|   ¿Dónde va Chichi?|ARGUVEV1187B98BA17|1997|313.12934|  Sierra Maestra|\n",
      "|SOMZWCG12A8C13C480|    I Didn't Mean To|ARD7TVE1187B99BFB1|   0|218.93179|          Casual|\n",
      "|SOUPIRU12A6D4FA1E1| Der Kleine Dompfaff|ARJIE2Y1187B994AB7|   0|152.92036|     Line Renaud|\n",
      "|SOXVLOJ12AB0189215|     Amor De Cabaret|ARKRRTF1187B9984DA|   0|177.47546|Sonora Santanera|\n",
      "|SOWTBJW12AC468AC6E|Broken-Down Merry...|ARQGYP71187FB44566|   0|151.84934|    Jimmy Wakely|\n",
      "+------------------+--------------------+------------------+----+---------+----------------+\n",
      "only showing top 5 rows"
     ]
    }
   ],
   "source": [
    "dfSongs.show(5)"
   ]
  },
  {
   "cell_type": "markdown",
   "id": "dabef147",
   "metadata": {},
   "source": [
    "### Create songplays table"
   ]
  },
  {
   "cell_type": "code",
   "execution_count": 32,
   "id": "997519f1",
   "metadata": {},
   "outputs": [
    {
     "data": {
      "application/vnd.jupyter.widget-view+json": {
       "model_id": "c85b22650db642219afbbd3ef0e8ebc1",
       "version_major": 2,
       "version_minor": 0
      },
      "text/plain": [
       "VBox()"
      ]
     },
     "metadata": {},
     "output_type": "display_data"
    },
    {
     "data": {
      "application/vnd.jupyter.widget-view+json": {
       "model_id": "",
       "version_major": 2,
       "version_minor": 0
      },
      "text/plain": [
       "FloatProgress(value=0.0, bar_style='info', description='Progress:', layout=Layout(height='25px', width='50%'),…"
      ]
     },
     "metadata": {},
     "output_type": "display_data"
    }
   ],
   "source": [
    "# First Join songs and artists tables first\n",
    "\n",
    "dfSongsArtists = dfSongs.join(dfArtists, dfSongs.artist_id ==  dfArtists.artist_id, \"inner\")\\\n",
    "                        .select(dfSongs.song_id,\n",
    "                                dfArtists.artist_id,\n",
    "                                dfSongs.title,\n",
    "                                dfSongs.duration,\n",
    "                                dfArtists.name)"
   ]
  },
  {
   "cell_type": "code",
   "execution_count": 33,
   "id": "e5def47e",
   "metadata": {},
   "outputs": [
    {
     "data": {
      "application/vnd.jupyter.widget-view+json": {
       "model_id": "77893e07335645d5b3865a1edc2e6ed7",
       "version_major": 2,
       "version_minor": 0
      },
      "text/plain": [
       "VBox()"
      ]
     },
     "metadata": {},
     "output_type": "display_data"
    },
    {
     "data": {
      "application/vnd.jupyter.widget-view+json": {
       "model_id": "",
       "version_major": 2,
       "version_minor": 0
      },
      "text/plain": [
       "FloatProgress(value=0.0, bar_style='info', description='Progress:', layout=Layout(height='25px', width='50%'),…"
      ]
     },
     "metadata": {},
     "output_type": "display_data"
    },
    {
     "name": "stdout",
     "output_type": "stream",
     "text": [
      "71"
     ]
    }
   ],
   "source": [
    "dfSongsArtists.count()"
   ]
  },
  {
   "cell_type": "code",
   "execution_count": 34,
   "id": "74c57a32",
   "metadata": {},
   "outputs": [
    {
     "data": {
      "application/vnd.jupyter.widget-view+json": {
       "model_id": "f2b4cf6ebc7740e285b18ed53e33953e",
       "version_major": 2,
       "version_minor": 0
      },
      "text/plain": [
       "VBox()"
      ]
     },
     "metadata": {},
     "output_type": "display_data"
    },
    {
     "data": {
      "application/vnd.jupyter.widget-view+json": {
       "model_id": "",
       "version_major": 2,
       "version_minor": 0
      },
      "text/plain": [
       "FloatProgress(value=0.0, bar_style='info', description='Progress:', layout=Layout(height='25px', width='50%'),…"
      ]
     },
     "metadata": {},
     "output_type": "display_data"
    },
    {
     "name": "stdout",
     "output_type": "stream",
     "text": [
      "root\n",
      " |-- song_id: string (nullable = true)\n",
      " |-- artist_id: string (nullable = true)\n",
      " |-- title: string (nullable = true)\n",
      " |-- duration: double (nullable = true)\n",
      " |-- name: string (nullable = true)"
     ]
    }
   ],
   "source": [
    "dfSongsArtists.printSchema()"
   ]
  },
  {
   "cell_type": "code",
   "execution_count": 35,
   "id": "9c437645",
   "metadata": {},
   "outputs": [
    {
     "data": {
      "application/vnd.jupyter.widget-view+json": {
       "model_id": "d8918e3d28744237a0090297fabe0f5f",
       "version_major": 2,
       "version_minor": 0
      },
      "text/plain": [
       "VBox()"
      ]
     },
     "metadata": {},
     "output_type": "display_data"
    },
    {
     "data": {
      "application/vnd.jupyter.widget-view+json": {
       "model_id": "",
       "version_major": 2,
       "version_minor": 0
      },
      "text/plain": [
       "FloatProgress(value=0.0, bar_style='info', description='Progress:', layout=Layout(height='25px', width='50%'),…"
      ]
     },
     "metadata": {},
     "output_type": "display_data"
    }
   ],
   "source": [
    "# Now join dfSongsArtists with dfLogs\n",
    "dfSongPlays = dfLogs \\\n",
    "                    .join(dfSongsArtists, (dfSongsArtists.name ==  dfLogs.artist) & \n",
    "                                          (dfSongsArtists.title ==  dfLogs.song) &\n",
    "                                          (dfSongsArtists.duration ==  dfLogs.length), \"left\")\n",
    "\n",
    "dfSongPlays = dfSongPlays \\\n",
    "                    .withColumn(\"timestamp\", F.from_unixtime(F.col(\"ts\")/1000)) \\\n",
    "                    .withColumn(\"timestamp\", F.to_timestamp(\"timestamp\")) \\\n",
    "                    .withColumn(\"year\", F.year(\"timestamp\")) \\\n",
    "                    .withColumn(\"month\", F.month(\"timestamp\")) \\\n",
    "                    .select(\"user_id\",\n",
    "                            \"level\",\n",
    "                            \"song_id\",\n",
    "                            \"artist_id\",\n",
    "                            \"session_id\",\n",
    "                            \"location\",\n",
    "                            \"user_agent\",\n",
    "                            \"timestamp\",\n",
    "                            \"year\",\n",
    "                            \"month\")\n"
   ]
  },
  {
   "cell_type": "code",
   "execution_count": 36,
   "id": "771da1b0",
   "metadata": {},
   "outputs": [
    {
     "data": {
      "application/vnd.jupyter.widget-view+json": {
       "model_id": "d1833320c888449c958bac180f5c1e5e",
       "version_major": 2,
       "version_minor": 0
      },
      "text/plain": [
       "VBox()"
      ]
     },
     "metadata": {},
     "output_type": "display_data"
    },
    {
     "data": {
      "application/vnd.jupyter.widget-view+json": {
       "model_id": "",
       "version_major": 2,
       "version_minor": 0
      },
      "text/plain": [
       "FloatProgress(value=0.0, bar_style='info', description='Progress:', layout=Layout(height='25px', width='50%'),…"
      ]
     },
     "metadata": {},
     "output_type": "display_data"
    },
    {
     "name": "stdout",
     "output_type": "stream",
     "text": [
      "8056"
     ]
    }
   ],
   "source": [
    "dfSongPlays.count()"
   ]
  },
  {
   "cell_type": "code",
   "execution_count": 37,
   "id": "7f6d48d6",
   "metadata": {},
   "outputs": [
    {
     "data": {
      "application/vnd.jupyter.widget-view+json": {
       "model_id": "e4a4f1fe431441c4bf1c2df251efb850",
       "version_major": 2,
       "version_minor": 0
      },
      "text/plain": [
       "VBox()"
      ]
     },
     "metadata": {},
     "output_type": "display_data"
    },
    {
     "data": {
      "application/vnd.jupyter.widget-view+json": {
       "model_id": "",
       "version_major": 2,
       "version_minor": 0
      },
      "text/plain": [
       "FloatProgress(value=0.0, bar_style='info', description='Progress:', layout=Layout(height='25px', width='50%'),…"
      ]
     },
     "metadata": {},
     "output_type": "display_data"
    },
    {
     "name": "stdout",
     "output_type": "stream",
     "text": [
      "root\n",
      " |-- user_id: string (nullable = true)\n",
      " |-- level: string (nullable = true)\n",
      " |-- song_id: string (nullable = true)\n",
      " |-- artist_id: string (nullable = true)\n",
      " |-- session_id: long (nullable = true)\n",
      " |-- location: string (nullable = true)\n",
      " |-- user_agent: string (nullable = true)\n",
      " |-- timestamp: timestamp (nullable = true)\n",
      " |-- year: integer (nullable = true)\n",
      " |-- month: integer (nullable = true)"
     ]
    }
   ],
   "source": [
    "dfSongPlays.printSchema()"
   ]
  },
  {
   "cell_type": "code",
   "execution_count": 38,
   "id": "2bb73d0b",
   "metadata": {},
   "outputs": [
    {
     "data": {
      "application/vnd.jupyter.widget-view+json": {
       "model_id": "f9bdafe08b11413d90c6c18d9455e451",
       "version_major": 2,
       "version_minor": 0
      },
      "text/plain": [
       "VBox()"
      ]
     },
     "metadata": {},
     "output_type": "display_data"
    },
    {
     "data": {
      "application/vnd.jupyter.widget-view+json": {
       "model_id": "",
       "version_major": 2,
       "version_minor": 0
      },
      "text/plain": [
       "FloatProgress(value=0.0, bar_style='info', description='Progress:', layout=Layout(height='25px', width='50%'),…"
      ]
     },
     "metadata": {},
     "output_type": "display_data"
    },
    {
     "name": "stdout",
     "output_type": "stream",
     "text": [
      "  user_id level song_id artist_id  session_id  \\\n",
      "0      97  paid    None      None         537   \n",
      "1      80  paid    None      None         416   \n",
      "2      44  paid    None      None         157   \n",
      "3      15  paid    None      None         172   \n",
      "4      88  paid    None      None         888   \n",
      "\n",
      "                                  location  \\\n",
      "0                 Lansing-East Lansing, MI   \n",
      "1              Portland-South Portland, ME   \n",
      "2                 Waterloo-Cedar Falls, IA   \n",
      "3       Chicago-Naperville-Elgin, IL-IN-WI   \n",
      "4  Sacramento--Roseville--Arden-Arcade, CA   \n",
      "\n",
      "                                          user_agent           timestamp  \\\n",
      "0  \"Mozilla/5.0 (X11; Linux x86_64) AppleWebKit/5... 2018-11-13 17:35:22   \n",
      "1  \"Mozilla/5.0 (Macintosh; Intel Mac OS X 10_9_4... 2018-11-09 16:03:22   \n",
      "2  Mozilla/5.0 (Macintosh; Intel Mac OS X 10.9; r... 2018-11-02 11:47:09   \n",
      "3  \"Mozilla/5.0 (X11; Linux x86_64) AppleWebKit/5... 2018-11-02 12:57:34   \n",
      "4  \"Mozilla/5.0 (Macintosh; Intel Mac OS X 10_9_4... 2018-11-24 05:39:42   \n",
      "\n",
      "   year  month  \n",
      "0  2018     11  \n",
      "1  2018     11  \n",
      "2  2018     11  \n",
      "3  2018     11  \n",
      "4  2018     11"
     ]
    }
   ],
   "source": [
    "dfSongPlays.limit(5).toPandas()"
   ]
  },
  {
   "cell_type": "markdown",
   "id": "d2c4208e",
   "metadata": {},
   "source": [
    "# Partition by & Write to Disk"
   ]
  },
  {
   "cell_type": "code",
   "execution_count": 40,
   "id": "2993b2fc",
   "metadata": {},
   "outputs": [
    {
     "data": {
      "application/vnd.jupyter.widget-view+json": {
       "model_id": "62a64ec4f5394d1da11384f46879d3c9",
       "version_major": 2,
       "version_minor": 0
      },
      "text/plain": [
       "VBox()"
      ]
     },
     "metadata": {},
     "output_type": "display_data"
    },
    {
     "data": {
      "application/vnd.jupyter.widget-view+json": {
       "model_id": "",
       "version_major": 2,
       "version_minor": 0
      },
      "text/plain": [
       "FloatProgress(value=0.0, bar_style='info', description='Progress:', layout=Layout(height='25px', width='50%'),…"
      ]
     },
     "metadata": {},
     "output_type": "display_data"
    }
   ],
   "source": [
    "# https://sparkbyexamples.com/pyspark/pyspark-partitionby-example/\n",
    "\n",
    "processed_s3_path = \"s3://udacity-de-files/processed\"\n",
    "\n",
    "dfSongPlays \\\n",
    "        .repartition(\"year\", \"month\") \\\n",
    "        .write \\\n",
    "        .partitionBy(\"year\", \"month\") \\\n",
    "        .mode(\"overwrite\") \\\n",
    "        .parquet(f\"{processed_s3_path}/songplays/\")"
   ]
  },
  {
   "cell_type": "code",
   "execution_count": 41,
   "id": "95c459f6",
   "metadata": {},
   "outputs": [
    {
     "data": {
      "application/vnd.jupyter.widget-view+json": {
       "model_id": "4afa51114daa488bbd6762b35ba7ec52",
       "version_major": 2,
       "version_minor": 0
      },
      "text/plain": [
       "VBox()"
      ]
     },
     "metadata": {},
     "output_type": "display_data"
    },
    {
     "data": {
      "application/vnd.jupyter.widget-view+json": {
       "model_id": "",
       "version_major": 2,
       "version_minor": 0
      },
      "text/plain": [
       "FloatProgress(value=0.0, bar_style='info', description='Progress:', layout=Layout(height='25px', width='50%'),…"
      ]
     },
     "metadata": {},
     "output_type": "display_data"
    }
   ],
   "source": [
    "dfTime \\\n",
    "        .repartition(\"year\", \"month\") \\\n",
    "        .write \\\n",
    "        .partitionBy(\"year\", \"month\") \\\n",
    "        .mode(\"overwrite\") \\\n",
    "        .parquet(f\"{processed_s3_path}/time/\")"
   ]
  },
  {
   "cell_type": "code",
   "execution_count": 42,
   "id": "a199a491",
   "metadata": {},
   "outputs": [
    {
     "data": {
      "application/vnd.jupyter.widget-view+json": {
       "model_id": "3eb3c53eaa0a4f6ab36b677deab82c44",
       "version_major": 2,
       "version_minor": 0
      },
      "text/plain": [
       "VBox()"
      ]
     },
     "metadata": {},
     "output_type": "display_data"
    },
    {
     "data": {
      "application/vnd.jupyter.widget-view+json": {
       "model_id": "",
       "version_major": 2,
       "version_minor": 0
      },
      "text/plain": [
       "FloatProgress(value=0.0, bar_style='info', description='Progress:', layout=Layout(height='25px', width='50%'),…"
      ]
     },
     "metadata": {},
     "output_type": "display_data"
    }
   ],
   "source": [
    "dfSongs \\\n",
    "        .repartition(\"year\", \"artist_name\") \\\n",
    "        .write \\\n",
    "        .partitionBy(\"year\", \"artist_name\") \\\n",
    "        .mode(\"overwrite\") \\\n",
    "        .parquet(f\"{processed_s3_path}/songs/\")"
   ]
  },
  {
   "cell_type": "code",
   "execution_count": 43,
   "id": "9efdb656",
   "metadata": {},
   "outputs": [
    {
     "data": {
      "application/vnd.jupyter.widget-view+json": {
       "model_id": "e7db0dce3afa43c5842cd5656eea4e26",
       "version_major": 2,
       "version_minor": 0
      },
      "text/plain": [
       "VBox()"
      ]
     },
     "metadata": {},
     "output_type": "display_data"
    },
    {
     "data": {
      "application/vnd.jupyter.widget-view+json": {
       "model_id": "",
       "version_major": 2,
       "version_minor": 0
      },
      "text/plain": [
       "FloatProgress(value=0.0, bar_style='info', description='Progress:', layout=Layout(height='25px', width='50%'),…"
      ]
     },
     "metadata": {},
     "output_type": "display_data"
    }
   ],
   "source": [
    "dfArtists \\\n",
    "        .repartition(\"name\") \\\n",
    "        .write \\\n",
    "        .partitionBy(\"name\") \\\n",
    "        .mode(\"overwrite\") \\\n",
    "        .parquet(f\"{processed_s3_path}/artists/\")"
   ]
  },
  {
   "cell_type": "code",
   "execution_count": 50,
   "id": "9087f2db",
   "metadata": {},
   "outputs": [
    {
     "data": {
      "application/vnd.jupyter.widget-view+json": {
       "model_id": "ab0850188cd244b3bb039053a0307dbb",
       "version_major": 2,
       "version_minor": 0
      },
      "text/plain": [
       "VBox()"
      ]
     },
     "metadata": {},
     "output_type": "display_data"
    },
    {
     "data": {
      "application/vnd.jupyter.widget-view+json": {
       "model_id": "",
       "version_major": 2,
       "version_minor": 0
      },
      "text/plain": [
       "FloatProgress(value=0.0, bar_style='info', description='Progress:', layout=Layout(height='25px', width='50%'),…"
      ]
     },
     "metadata": {},
     "output_type": "display_data"
    }
   ],
   "source": [
    "# On user, first repartition by first letter of the name, then write to disk\n",
    "dfUsers \\\n",
    "        .repartition(\"first_name_letter\") \\\n",
    "        .write \\\n",
    "        .partitionBy(\"first_name_letter\") \\\n",
    "        .mode(\"overwrite\") \\\n",
    "        .parquet(f\"{processed_s3_path}/users/\")"
   ]
  }
 ],
 "metadata": {
  "kernelspec": {
   "display_name": "PySpark",
   "language": "",
   "name": "pysparkkernel"
  },
  "language_info": {
   "codemirror_mode": {
    "name": "python",
    "version": 2
   },
   "mimetype": "text/x-python",
   "name": "pyspark",
   "pygments_lexer": "python2"
  }
 },
 "nbformat": 4,
 "nbformat_minor": 5
}
